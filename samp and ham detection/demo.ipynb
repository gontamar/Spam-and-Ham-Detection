{
 "cells": [
  {
   "cell_type": "code",
   "execution_count": 1,
   "metadata": {},
   "outputs": [
    {
     "name": "stdout",
     "output_type": "stream",
     "text": [
      "     label                                            message  length  punct\n",
      "0      ham  Go until jurong point, crazy.. Available only ...     111      9\n",
      "1      ham                      Ok lar... Joking wif u oni...      29      6\n",
      "2     spam  Free entry in 2 a wkly comp to win FA Cup fina...     155      6\n",
      "3      ham  U dun say so early hor... U c already then say...      49      6\n",
      "4      ham  Nah I don't think he goes to usf, he lives aro...      61      2\n",
      "...    ...                                                ...     ...    ...\n",
      "5567  spam  This is the 2nd time we have tried 2 contact u...     160      8\n",
      "5568   ham               Will ü b going to esplanade fr home?      36      1\n",
      "5569   ham  Pity, * was in mood for that. So...any other s...      57      7\n",
      "5570   ham  The guy did some bitching but I acted like i'd...     125      1\n",
      "5571   ham                         Rofl. Its true to its name      26      1\n",
      "\n",
      "[5572 rows x 4 columns]\n"
     ]
    }
   ],
   "source": [
    "import pandas as pd\n",
    "df = pd.read_table(\"https://raw.githubusercontent.com/arib168/data/main/spam.tsv\")\n",
    "print(df)"
   ]
  },
  {
   "cell_type": "code",
   "execution_count": 2,
   "metadata": {},
   "outputs": [
    {
     "name": "stdout",
     "output_type": "stream",
     "text": [
      "<class 'pandas.core.frame.DataFrame'>\n",
      "RangeIndex: 5572 entries, 0 to 5571\n",
      "Data columns (total 4 columns):\n",
      " #   Column   Non-Null Count  Dtype \n",
      "---  ------   --------------  ----- \n",
      " 0   label    5572 non-null   object\n",
      " 1   message  5572 non-null   object\n",
      " 2   length   5572 non-null   int64 \n",
      " 3   punct    5572 non-null   int64 \n",
      "dtypes: int64(2), object(2)\n",
      "memory usage: 174.3+ KB\n",
      "None\n"
     ]
    }
   ],
   "source": [
    "print(df.info())"
   ]
  },
  {
   "cell_type": "code",
   "execution_count": 3,
   "metadata": {},
   "outputs": [
    {
     "name": "stdout",
     "output_type": "stream",
     "text": [
      "This is the 2nd time we have tried 2 contact u. U have won the £750 Pound prize. 2 claim is easy, call 087187272008 NOW1! Only 10p per minute. BT-national-rate.\n",
      "label\n",
      "ham     4825\n",
      "spam     747\n",
      "Name: count, dtype: int64\n"
     ]
    }
   ],
   "source": [
    "# x = df.iloc[:,1].values\n",
    "x = df['message'].values #for numerical data, input x should be in 2 dimensions, for text data, it is 1 dimension only\n",
    "\n",
    "y = df['label'].values\n",
    "# y = df.iloc[:,0].values\n",
    "\n",
    "print(df['message'][5567])\n",
    "print(df['label'].value_counts())"
   ]
  },
  {
   "cell_type": "code",
   "execution_count": 4,
   "metadata": {},
   "outputs": [
    {
     "name": "stdout",
     "output_type": "stream",
     "text": [
      "(4179,)\n",
      "(1393,)\n"
     ]
    }
   ],
   "source": [
    "\n",
    "\n",
    "from sklearn.model_selection import train_test_split\n",
    "x_train,x_test,y_train,y_test = train_test_split(x,y,random_state=0)\n",
    "\n",
    "print(x_train.shape)\n",
    "\n",
    "print(x_test.shape)"
   ]
  },
  {
   "cell_type": "code",
   "execution_count": 5,
   "metadata": {},
   "outputs": [],
   "source": [
    "\n",
    "# tokenization - splitting the sentence into words\n",
    "# vectorization - after splitting, counting how many times each word has been repeated\n",
    "\n",
    "#apply the feature extraction technique using the count vectorizer/bag of words\n",
    "\n",
    "from sklearn.feature_extraction.text import CountVectorizer\n",
    "vect = CountVectorizer(stop_words='english')\n",
    "x_train_vect = vect.fit_transform(x_train)\n",
    "x_test_vect = vect.transform(x_test)"
   ]
  },
  {
   "cell_type": "code",
   "execution_count": 6,
   "metadata": {},
   "outputs": [
    {
     "name": "stdout",
     "output_type": "stream",
     "text": [
      "['ham' 'spam' 'ham' ... 'spam' 'ham' 'ham']\n",
      "['ham' 'spam' 'ham' ... 'spam' 'ham' 'ham']\n",
      "0.9885139985642498\n"
     ]
    }
   ],
   "source": [
    "from sklearn.pipeline import make_pipeline\n",
    "from sklearn.naive_bayes import MultinomialNB # Import MultinomialNB\n",
    "model4 = make_pipeline(CountVectorizer(), MultinomialNB())\n",
    "model4.fit(x_train,y_train)\n",
    "y_pred4 = model4.predict(x_test)\n",
    "print(y_pred4)\n",
    "\n",
    "print(y_test)\n",
    "\n",
    "from sklearn.metrics import accuracy_score\n",
    "print(accuracy_score(y_pred4,y_test))"
   ]
  },
  {
   "cell_type": "code",
   "execution_count": 7,
   "metadata": {},
   "outputs": [
    {
     "data": {
      "text/plain": [
       "array(['spam'], dtype='<U4')"
      ]
     },
     "execution_count": 7,
     "metadata": {},
     "output_type": "execute_result"
    }
   ],
   "source": [
    "\n",
    "import joblib\n",
    "joblib.dump(model4,'spam') # a file is created\n",
    "\n",
    "#desrialization\n",
    "import joblib\n",
    "text_model = joblib.load('spam')\n",
    "\n",
    "text_model.predict([\"free tickets sold\"])"
   ]
  }
 ],
 "metadata": {
  "kernelspec": {
   "display_name": "Python 3",
   "language": "python",
   "name": "python3"
  },
  "language_info": {
   "codemirror_mode": {
    "name": "ipython",
    "version": 3
   },
   "file_extension": ".py",
   "mimetype": "text/x-python",
   "name": "python",
   "nbconvert_exporter": "python",
   "pygments_lexer": "ipython3",
   "version": "3.12.3"
  }
 },
 "nbformat": 4,
 "nbformat_minor": 2
}
